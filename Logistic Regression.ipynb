{
 "cells": [
  {
   "cell_type": "code",
   "execution_count": 1,
   "id": "500ed742",
   "metadata": {},
   "outputs": [],
   "source": [
    "\n",
    "import pandas as pd\n",
    "import numpy as np\n",
    "import matplotlib.pyplot as plt\n",
    "import math\n",
    "from sklearn.model_selection import train_test_split\n",
    "from sklearn.linear_model import LogisticRegression\n",
    "from sklearn.metrics import classification_report\n",
    "from sklearn.metrics import confusion_matrix,accuracy_score\n",
    "\n"
   ]
  },
  {
   "cell_type": "code",
   "execution_count": 1,
   "id": "c20950ef",
   "metadata": {},
   "outputs": [
    {
     "data": {
      "text/plain": [
       "{'x': [0.1, 0.2, 0.3, 0.4, 0.6, 0.7, 0.8, 0.9], 'y': [0, 0, 0, 0, 1, 1, 1, 1]}"
      ]
     },
     "execution_count": 1,
     "metadata": {},
     "output_type": "execute_result"
    }
   ],
   "source": [
    "data={\n",
    "    \"x\":[0.1,0.2,0.3,0.4,0.6,0.7,0.8,0.9],\n",
    "    \"y\":[0,0,0,0,1,1,1,1]\n",
    "}\n",
    "data"
   ]
  },
  {
   "cell_type": "markdown",
   "id": "da65aab5",
   "metadata": {},
   "source": [
    "## Finding m\n",
    "\n",
    "$$\\frac{(n*\\sum_{i=0}^{n}Xi+Yi- \\sum_{i-n}^{n}X*\\sum_{i-n}^{n}Y)}{(n*\\sum_{i-0}^{n}X^2)-( \\sum_{i-0}^{n}X)^2}$$"
   ]
  },
  {
   "cell_type": "code",
   "execution_count": 4,
   "id": "d4cf5a56",
   "metadata": {},
   "outputs": [
    {
     "data": {
      "text/html": [
       "<div>\n",
       "<style scoped>\n",
       "    .dataframe tbody tr th:only-of-type {\n",
       "        vertical-align: middle;\n",
       "    }\n",
       "\n",
       "    .dataframe tbody tr th {\n",
       "        vertical-align: top;\n",
       "    }\n",
       "\n",
       "    .dataframe thead th {\n",
       "        text-align: right;\n",
       "    }\n",
       "</style>\n",
       "<table border=\"1\" class=\"dataframe\">\n",
       "  <thead>\n",
       "    <tr style=\"text-align: right;\">\n",
       "      <th></th>\n",
       "      <th>x</th>\n",
       "      <th>y</th>\n",
       "      <th>sum_xy</th>\n",
       "      <th>sqr_x</th>\n",
       "    </tr>\n",
       "  </thead>\n",
       "  <tbody>\n",
       "    <tr>\n",
       "      <th>0</th>\n",
       "      <td>0.1</td>\n",
       "      <td>0</td>\n",
       "      <td>0.0</td>\n",
       "      <td>0.01</td>\n",
       "    </tr>\n",
       "    <tr>\n",
       "      <th>1</th>\n",
       "      <td>0.2</td>\n",
       "      <td>0</td>\n",
       "      <td>0.0</td>\n",
       "      <td>0.04</td>\n",
       "    </tr>\n",
       "    <tr>\n",
       "      <th>2</th>\n",
       "      <td>0.3</td>\n",
       "      <td>0</td>\n",
       "      <td>0.0</td>\n",
       "      <td>0.09</td>\n",
       "    </tr>\n",
       "    <tr>\n",
       "      <th>3</th>\n",
       "      <td>0.4</td>\n",
       "      <td>0</td>\n",
       "      <td>0.0</td>\n",
       "      <td>0.16</td>\n",
       "    </tr>\n",
       "    <tr>\n",
       "      <th>4</th>\n",
       "      <td>0.6</td>\n",
       "      <td>1</td>\n",
       "      <td>0.6</td>\n",
       "      <td>0.36</td>\n",
       "    </tr>\n",
       "    <tr>\n",
       "      <th>5</th>\n",
       "      <td>0.7</td>\n",
       "      <td>1</td>\n",
       "      <td>0.7</td>\n",
       "      <td>0.49</td>\n",
       "    </tr>\n",
       "    <tr>\n",
       "      <th>6</th>\n",
       "      <td>0.8</td>\n",
       "      <td>1</td>\n",
       "      <td>0.8</td>\n",
       "      <td>0.64</td>\n",
       "    </tr>\n",
       "    <tr>\n",
       "      <th>7</th>\n",
       "      <td>0.9</td>\n",
       "      <td>1</td>\n",
       "      <td>0.9</td>\n",
       "      <td>0.81</td>\n",
       "    </tr>\n",
       "  </tbody>\n",
       "</table>\n",
       "</div>"
      ],
      "text/plain": [
       "     x  y  sum_xy  sqr_x\n",
       "0  0.1  0     0.0   0.01\n",
       "1  0.2  0     0.0   0.04\n",
       "2  0.3  0     0.0   0.09\n",
       "3  0.4  0     0.0   0.16\n",
       "4  0.6  1     0.6   0.36\n",
       "5  0.7  1     0.7   0.49\n",
       "6  0.8  1     0.8   0.64\n",
       "7  0.9  1     0.9   0.81"
      ]
     },
     "execution_count": 4,
     "metadata": {},
     "output_type": "execute_result"
    }
   ],
   "source": [
    "df=pd.DataFrame(data=data)\n",
    "df\n",
    "\n",
    "df['sum_xy']=df['x']*df['y']\n",
    "df['sqr_x']=df['x']**2\n",
    "df"
   ]
  },
  {
   "cell_type": "code",
   "execution_count": 12,
   "id": "90ca89fd",
   "metadata": {},
   "outputs": [
    {
     "data": {
      "text/plain": [
       "(4.0, 4, 3.0, 2.5999999999999996, 16.0, 8)"
      ]
     },
     "execution_count": 12,
     "metadata": {},
     "output_type": "execute_result"
    }
   ],
   "source": [
    "sum_x=df['x'].sum()\n",
    "sum_y=df['y'].sum()\n",
    "sum_xy=df['sum_xy'].sum()\n",
    "sum_sqr_x=df['sqr_x'].sum()\n",
    "sum_x_h_2=sum_x **2\n",
    "n=len(df)\n",
    "sum_x,sum_y,sum_xy,sum_sqr_x,sum_x_h_2,n\n"
   ]
  },
  {
   "cell_type": "code",
   "execution_count": 9,
   "id": "6a33f019",
   "metadata": {},
   "outputs": [
    {
     "data": {
      "text/plain": [
       "8.0"
      ]
     },
     "execution_count": 9,
     "metadata": {},
     "output_type": "execute_result"
    }
   ],
   "source": [
    "numerator = (n*sum_xy) - (sum_x*sum_y)\n",
    "numerator"
   ]
  },
  {
   "cell_type": "code",
   "execution_count": 13,
   "id": "4c9e9645",
   "metadata": {},
   "outputs": [
    {
     "data": {
      "text/plain": [
       "4.799999999999997"
      ]
     },
     "execution_count": 13,
     "metadata": {},
     "output_type": "execute_result"
    }
   ],
   "source": [
    "denominator = (n*sum_sqr_x) - sum_x_h_2\n",
    "denominator"
   ]
  },
  {
   "cell_type": "code",
   "execution_count": 14,
   "id": "c4b0397d",
   "metadata": {},
   "outputs": [
    {
     "data": {
      "text/plain": [
       "1.6666666666666676"
      ]
     },
     "execution_count": 14,
     "metadata": {},
     "output_type": "execute_result"
    }
   ],
   "source": [
    "m=numerator/denominator\n",
    "m"
   ]
  },
  {
   "cell_type": "markdown",
   "id": "fd4ce67c",
   "metadata": {},
   "source": [
    "## finding b\n",
    "\n",
    "$$\\frac{\\sum_{i=0}^{n}Y_{i}-m*\\sum_{i=0}^{n}X_{i}}{n}$$"
   ]
  },
  {
   "cell_type": "code",
   "execution_count": 15,
   "id": "dda31186",
   "metadata": {},
   "outputs": [
    {
     "data": {
      "text/plain": [
       "(4.0, 4, 8, 1.6666666666666676)"
      ]
     },
     "execution_count": 15,
     "metadata": {},
     "output_type": "execute_result"
    }
   ],
   "source": [
    "sum_x,sum_y,n,m"
   ]
  },
  {
   "cell_type": "code",
   "execution_count": 17,
   "id": "bbd3d423",
   "metadata": {},
   "outputs": [
    {
     "data": {
      "text/plain": [
       "-0.3333333333333338"
      ]
     },
     "execution_count": 17,
     "metadata": {},
     "output_type": "execute_result"
    }
   ],
   "source": [
    "numerator_b = ((sum_y)-(m*sum_x))\n",
    "denominator_b=n\n",
    "b=numerator_b/denominator_b\n",
    "b"
   ]
  },
  {
   "cell_type": "code",
   "execution_count": 18,
   "id": "c89f2dcd",
   "metadata": {},
   "outputs": [
    {
     "name": "stdout",
     "output_type": "stream",
     "text": [
      "m value is: 1.6666666666666676\n",
      "b value is: -0.3333333333333338\n"
     ]
    }
   ],
   "source": [
    "print('m value is:',m)\n",
    "print('b value is:',b)"
   ]
  },
  {
   "cell_type": "markdown",
   "id": "1b6bd222",
   "metadata": {},
   "source": [
    "## X-Cap\n",
    "\n",
    "$$Xcap=m*X+c$$"
   ]
  },
  {
   "cell_type": "code",
   "execution_count": 20,
   "id": "967c4505",
   "metadata": {},
   "outputs": [
    {
     "data": {
      "text/plain": [
       "[-0.16666666666666705,\n",
       " -2.7755575615628914e-16,\n",
       " 0.1666666666666664,\n",
       " 0.33333333333333326,\n",
       " 0.6666666666666666,\n",
       " 0.8333333333333334,\n",
       " 1.0000000000000004,\n",
       " 1.166666666666667]"
      ]
     },
     "execution_count": 20,
     "metadata": {},
     "output_type": "execute_result"
    }
   ],
   "source": [
    "x_cap = [(m*x+b) for x in df['x']]\n",
    "x_cap"
   ]
  },
  {
   "cell_type": "markdown",
   "id": "db70e9d6",
   "metadata": {},
   "source": [
    "## Sigmoid\n",
    "\n",
    "$$Y_{pred}=\\frac{1}{1+e^{-x^{cap}}}$$"
   ]
  },
  {
   "cell_type": "code",
   "execution_count": 21,
   "id": "4eb1aeb5",
   "metadata": {},
   "outputs": [
    {
     "data": {
      "text/plain": [
       "[0.45842951678320004,\n",
       " 0.5,\n",
       " 0.5415704832167998,\n",
       " 0.5825702064623147,\n",
       " 0.6607563687658172,\n",
       " 0.6970592839654074,\n",
       " 0.731058578630005,\n",
       " 0.7625419716560975]"
      ]
     },
     "execution_count": 21,
     "metadata": {},
     "output_type": "execute_result"
    }
   ],
   "source": [
    "def sigmoid(x_cap):\n",
    "    return [(1/(1+np.exp(-x_cap))) for x_cap in x_cap]\n",
    "sigmoid(x_cap)"
   ]
  },
  {
   "cell_type": "code",
   "execution_count": 24,
   "id": "c8c7a809",
   "metadata": {},
   "outputs": [
    {
     "data": {
      "text/plain": [
       "[0.45842951678320004,\n",
       " 0.5,\n",
       " 0.5415704832167998,\n",
       " 0.5825702064623147,\n",
       " 0.6607563687658172,\n",
       " 0.6970592839654074,\n",
       " 0.731058578630005,\n",
       " 0.7625419716560975]"
      ]
     },
     "execution_count": 24,
     "metadata": {},
     "output_type": "execute_result"
    }
   ],
   "source": [
    "ypred = sigmoid(x_cap)\n",
    "ypred"
   ]
  },
  {
   "cell_type": "code",
   "execution_count": 23,
   "id": "ce91826a",
   "metadata": {},
   "outputs": [
    {
     "data": {
      "text/plain": [
       "[0, 1, 1, 1, 1, 1, 1, 1]"
      ]
     },
     "execution_count": 23,
     "metadata": {},
     "output_type": "execute_result"
    }
   ],
   "source": [
    "def final(ypred):\n",
    "    re = [1 if val >=0.5 else 0 for val in ypred]\n",
    "    return re\n",
    "final(ypred)"
   ]
  },
  {
   "cell_type": "code",
   "execution_count": 25,
   "id": "b62ec092",
   "metadata": {},
   "outputs": [
    {
     "data": {
      "text/plain": [
       "[0, 1, 1, 1, 1, 1, 1, 1]"
      ]
     },
     "execution_count": 25,
     "metadata": {},
     "output_type": "execute_result"
    }
   ],
   "source": [
    "ypred=final(ypred)\n",
    "ypred"
   ]
  },
  {
   "cell_type": "code",
   "execution_count": 26,
   "id": "774f4d32",
   "metadata": {},
   "outputs": [
    {
     "data": {
      "text/plain": [
       "array([0, 0, 0, 0, 1, 1, 1, 1], dtype=int64)"
      ]
     },
     "execution_count": 26,
     "metadata": {},
     "output_type": "execute_result"
    }
   ],
   "source": [
    "ytrue = df.y.values\n",
    "ytrue"
   ]
  },
  {
   "cell_type": "code",
   "execution_count": 30,
   "id": "ad4e2542",
   "metadata": {},
   "outputs": [
    {
     "data": {
      "text/plain": [
       "0.625"
      ]
     },
     "execution_count": 30,
     "metadata": {},
     "output_type": "execute_result"
    }
   ],
   "source": [
    "def acc(ypred,ytrue):\n",
    "    c=0\n",
    "    for yp,yt in zip(ypred,ytrue):\n",
    "        if yp==yt:\n",
    "            c+=1\n",
    "    return c/len(ypred)\n",
    "acc(ypred, ytrue)\n",
    "\n",
    "from sklearn.metrics import accuracy_score\n",
    "accuracy_score(ytrue,ypred)"
   ]
  },
  {
   "cell_type": "code",
   "execution_count": 32,
   "id": "de64a5c6",
   "metadata": {},
   "outputs": [
    {
     "name": "stdout",
     "output_type": "stream",
     "text": [
      "Requirement already satisfied: scikit.learn in c:\\users\\g guruvaiah\\anaconda3\\lib\\site-packages (0.24.2)\n",
      "Requirement already satisfied: scipy>=0.19.1 in c:\\users\\g guruvaiah\\anaconda3\\lib\\site-packages (from scikit.learn) (1.7.1)\n",
      "Requirement already satisfied: joblib>=0.11 in c:\\users\\g guruvaiah\\anaconda3\\lib\\site-packages (from scikit.learn) (1.1.0)\n",
      "Requirement already satisfied: numpy>=1.13.3 in c:\\users\\g guruvaiah\\anaconda3\\lib\\site-packages (from scikit.learn) (1.20.3)\n",
      "Requirement already satisfied: threadpoolctl>=2.0.0 in c:\\users\\g guruvaiah\\anaconda3\\lib\\site-packages (from scikit.learn) (2.2.0)\n"
     ]
    }
   ],
   "source": [
    "!pip install scikit.learn\n",
    "import sklearn"
   ]
  },
  {
   "cell_type": "code",
   "execution_count": 34,
   "id": "1b579e9b",
   "metadata": {},
   "outputs": [
    {
     "name": "stdout",
     "output_type": "stream",
     "text": [
      "              precision    recall  f1-score   support\n",
      "\n",
      "           0       1.00      0.25      0.40         4\n",
      "           1       0.57      1.00      0.73         4\n",
      "\n",
      "    accuracy                           0.62         8\n",
      "   macro avg       0.79      0.62      0.56         8\n",
      "weighted avg       0.79      0.62      0.56         8\n",
      "\n"
     ]
    }
   ],
   "source": [
    "from sklearn.metrics import classification_report\n",
    "print(classification_report(ytrue,ypred))"
   ]
  },
  {
   "cell_type": "code",
   "execution_count": 39,
   "id": "277b8d37",
   "metadata": {},
   "outputs": [
    {
     "data": {
      "image/png": "[encoded data removed]",
      "text/plain": [
       "<Figure size 432x288 with 1 Axes>"
      ]
     },
     "metadata": {
      "needs_background": "light"
     },
     "output_type": "display_data"
    }
   ],
   "source": [
    "x_val = df['x']\n",
    "ytrue = df['y']\n",
    "y_pre = ypred\n",
    "\n",
    "plt.scatter(x_val,ytrue,label='blue=original_val')\n",
    "plt.scatter(x_val,ypred,label='orange=pred_val')\n",
    "plt.title(\"Logistic Regression\")\n",
    "plt.legend()\n",
    "plt.show()"
   ]
  },
  {
   "cell_type": "code",
   "execution_count": null,
   "id": "613b3cf0",
   "metadata": {},
   "outputs": [],
   "source": []
  }
 ],
 "metadata": {
  "kernelspec": {
   "display_name": "Python 3 (ipykernel)",
   "language": "python",
   "name": "python3"
  },
  "language_info": {
   "codemirror_mode": {
    "name": "ipython",
    "version": 3
   },
   "file_extension": ".py",
   "mimetype": "text/x-python",
   "name": "python",
   "nbconvert_exporter": "python",
   "pygments_lexer": "ipython3",
   "version": "3.9.7"
  }
 },
 "nbformat": 4,
 "nbformat_minor": 5
}
